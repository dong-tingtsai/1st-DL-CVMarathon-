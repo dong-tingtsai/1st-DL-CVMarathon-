{
 "cells": [
  {
   "cell_type": "code",
   "execution_count": 18,
   "metadata": {
    "scrolled": true
   },
   "outputs": [
    {
     "name": "stdout",
     "output_type": "stream",
     "text": [
      "班次1\n",
      "06:30\n",
      "06:32\n",
      "06:33\n",
      "06:34\n",
      "06:36\n",
      "06:38\n",
      "06:39\n",
      "06:41\n",
      "06:42\n",
      "06:43\n",
      "06:44\n",
      "06:45\n",
      "06:46\n",
      "06:47\n",
      "06:48\n",
      "06:49\n",
      "06:50\n",
      "06:51\n",
      "06:53\n",
      "06:55\n",
      "06:57\n",
      "06:58\n",
      "07:00\n",
      "07:01\n",
      "07:03\n",
      "07:05\n",
      "07:07\n",
      "07:09\n",
      "07:10\n",
      "07:12\n",
      "07:14\n",
      "07:16\n",
      "07:18\n",
      "07:20\n",
      "07:21\n",
      "07:23\n",
      "07:24\n",
      "07:25\n",
      "07:00\n",
      "07:02\n",
      "07:03\n",
      "07:04\n",
      "07:06\n",
      "07:08\n",
      "07:09\n",
      "07:11\n",
      "07:12\n",
      "07:13\n",
      "07:14\n",
      "07:15\n",
      "07:16\n",
      "07:17\n",
      "07:18\n",
      "07:19\n",
      "07:20\n",
      "07:21\n",
      "07:23\n",
      "07:25\n",
      "07:27\n",
      "07:28\n",
      "07:30\n",
      "07:31\n",
      "07:33\n",
      "07:35\n",
      "07:37\n",
      "07:39\n",
      "07:40\n",
      "07:42\n",
      "07:44\n",
      "07:46\n",
      "07:48\n",
      "07:49\n",
      "07:51\n",
      "07:53\n",
      "07:54\n",
      "07:55\n"
     ]
    }
   ],
   "source": [
    "import csv\n",
    "\n",
    "# 開啟 CSV 檔案\n",
    "with open('example.csv', newline='', encoding=\"utf-8\") as csvfile:\n",
    "    \n",
    "# 讀取 CSV 檔內容\n",
    " rows = csv.reader(csvfile)\n",
    "\n",
    "# 以迴圈輸出每一列\n",
    " for row in rows:\n",
    "    print(row[5])"
   ]
  },
  {
   "cell_type": "code",
   "execution_count": null,
   "metadata": {},
   "outputs": [],
   "source": []
  }
 ],
 "metadata": {
  "kernelspec": {
   "display_name": "Python 3",
   "language": "python",
   "name": "python3"
  },
  "language_info": {
   "codemirror_mode": {
    "name": "ipython",
    "version": 3
   },
   "file_extension": ".py",
   "mimetype": "text/x-python",
   "name": "python",
   "nbconvert_exporter": "python",
   "pygments_lexer": "ipython3",
   "version": "3.7.3"
  }
 },
 "nbformat": 4,
 "nbformat_minor": 2
}
